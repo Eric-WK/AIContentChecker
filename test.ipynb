{
 "cells": [
  {
   "cell_type": "code",
   "execution_count": 30,
   "metadata": {},
   "outputs": [
    {
     "name": "stdout",
     "output_type": "stream",
     "text": [
      "Real: 2.55% Fake: 97.45%\n"
     ]
    }
   ],
   "source": [
    "import requests\n",
    "import json \n",
    "\n",
    "## endpoint\n",
    "url = 'https://s5.zerogpt.com/detectText'\n",
    "\n",
    "## headers\n",
    "headers = {\n",
    "    'Accept': 'application/json, text/plain, */*',\n",
    "    'Accept-Language': 'en-GB,en-US;q=0.9,en;q=0.8',\n",
    "    'Connection': 'keep-alive',\n",
    "    'Content-Type': 'application/json',\n",
    "    'Origin': 'https://www.zerogpt.com',\n",
    "    'Referer': 'https://www.zerogpt.com/',\n",
    "    'Sec-Fetch-Dest': 'empty',\n",
    "    'Sec-Fetch-Mode': 'cors',\n",
    "    'Sec-Fetch-Site': 'same-site',\n",
    "    'sec-ch-ua-mobile': '?0',\n",
    "    'sec-ch-ua-platform': 'macOS'\n",
    "}\n",
    "## text to check \n",
    "text_to_check = \"I hope you are all doing well. I am currently conducting a survey to gather valuable insights and perspectives on a specific topic. I would greatly appreciate your participation in this survey as your input will help shape the direction of this project.\\n\\nThe survey will only take a few minutes to complete, and your responses will be kept confidential. Your participation in this survey is greatly appreciated and will help us understand the needs and preferences of the community\"\n",
    "\n",
    "## make it into the format the api expects\n",
    "text_to_check_dump = json.dumps({\"text\":text_to_check})\n",
    "\n",
    "## load the text into the data variable\n",
    "data = json.loads(text_to_check_dump)\n",
    "\n",
    "## make the request \n",
    "response = requests.post(url, headers=headers, json=data).json()\n",
    "\n",
    "## get the fake, real %s \n",
    "real, fake = response['robertaScoreParagraph']['real']*100, response['robertaScoreParagraph']['fake']*100\n",
    "\n",
    "## print the results\n",
    "print(f\"Real: {real:.2f}% Fake: {fake:.2f}%\")"
   ]
  },
  {
   "cell_type": "code",
   "execution_count": null,
   "metadata": {},
   "outputs": [],
   "source": []
  },
  {
   "cell_type": "code",
   "execution_count": 26,
   "metadata": {},
   "outputs": [
    {
     "data": {
      "text/plain": [
       "{'all_tokens': 88,\n",
       " 'fake': 0.9744822382926941,\n",
       " 'real': 0.02551773376762867,\n",
       " 'used_tokens': 88}"
      ]
     },
     "execution_count": 26,
     "metadata": {},
     "output_type": "execute_result"
    }
   ],
   "source": [
    "response['robertaScoreParagraph']"
   ]
  },
  {
   "cell_type": "code",
   "execution_count": 31,
   "metadata": {},
   "outputs": [],
   "source": [
    "import requests\n",
    "import json \n",
    "\n",
    "class AIContentChecker:\n",
    "    def __init__(self, text):\n",
    "        self.text = text\n",
    "        self.url = 'https://s5.zerogpt.com/detectText'\n",
    "        self.headers = {\n",
    "            'Accept': 'application/json, text/plain, */*',\n",
    "            'Accept-Language': 'en-GB,en-US;q=0.9,en;q=0.8',\n",
    "            'Connection': 'keep-alive',\n",
    "            'Content-Type': 'application/json',\n",
    "            'Origin': 'https://www.zerogpt.com',\n",
    "            'Referer': 'https://www.zerogpt.com/',\n",
    "            'Sec-Fetch-Dest': 'empty',\n",
    "            'Sec-Fetch-Mode': 'cors',\n",
    "            'Sec-Fetch-Site': 'same-site',\n",
    "            'sec-ch-ua-mobile': '?0',\n",
    "            'sec-ch-ua-platform': 'macOS'\n",
    "        }\n",
    "        self.real = None\n",
    "        self.fake = None\n",
    "        self.response = None\n",
    "\n",
    "    def check_text(self):\n",
    "        text_to_check = self.text\n",
    "        text_to_check_dump = json.dumps({\"text\":text_to_check})\n",
    "        data = json.loads(text_to_check_dump)\n",
    "        self.response = requests.post(self.url, headers=self.headers, json=data).json()\n",
    "        self.real, self.fake = response['robertaScoreParagraph']['real']*100, response['robertaScoreParagraph']['fake']*100\n"
   ]
  },
  {
   "cell_type": "code",
   "execution_count": 35,
   "metadata": {},
   "outputs": [
    {
     "data": {
      "text/plain": [
       "(2.551773376762867,\n",
       " 97.44822382926941,\n",
       " {'additional_feedback': '',\n",
       "  'isHuman': 0,\n",
       "  'p': '[19.764599, 34.955563, 15.976652, 11.186633, 12.547201]',\n",
       "  'paragraphScore': '10.184095',\n",
       "  'robertaScoreParagraph': {'all_tokens': 88,\n",
       "   'fake': 0.9744822382926941,\n",
       "   'real': 0.02551773376762867,\n",
       "   'used_tokens': 88},\n",
       "  'sentences': ['I hope you are all doing well.',\n",
       "   'I am currently conducting a survey to gather valuable insights and perspectives on a specific topic.',\n",
       "   'I would greatly appreciate your participation in this survey as your input will help shape the direction of this project.',\n",
       "   'The survey will only take a few minutes to complete, and your responses will be kept confidential.',\n",
       "   'Your participation in this survey is greatly appreciated and will help us understand the needs and preferences of the community'],\n",
       "  'z': '9.577678528158497'})"
      ]
     },
     "execution_count": 35,
     "metadata": {},
     "output_type": "execute_result"
    }
   ],
   "source": [
    "checker = ZeroGPT(text_to_check)\n",
    "checker.check_text()\n",
    "checker.real, checker.fake, checker.response"
   ]
  },
  {
   "cell_type": "code",
   "execution_count": 34,
   "metadata": {},
   "outputs": [],
   "source": []
  },
  {
   "cell_type": "code",
   "execution_count": null,
   "metadata": {},
   "outputs": [],
   "source": []
  }
 ],
 "metadata": {
  "kernelspec": {
   "display_name": "stage-eda",
   "language": "python",
   "name": "python3"
  },
  "language_info": {
   "codemirror_mode": {
    "name": "ipython",
    "version": 3
   },
   "file_extension": ".py",
   "mimetype": "text/x-python",
   "name": "python",
   "nbconvert_exporter": "python",
   "pygments_lexer": "ipython3",
   "version": "3.10.6"
  },
  "orig_nbformat": 4,
  "vscode": {
   "interpreter": {
    "hash": "4e6c4014a613060fe3b87eaa445a53f2cc5a26f90bcc389579e2a33a818d3c1c"
   }
  }
 },
 "nbformat": 4,
 "nbformat_minor": 2
}
